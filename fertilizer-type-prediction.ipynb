{
 "cells": [
  {
   "cell_type": "code",
   "execution_count": 1,
   "id": "8c60edb4",
   "metadata": {
    "_cell_guid": "b1076dfc-b9ad-4769-8c92-a6c4dae69d19",
    "_uuid": "8f2839f25d086af736a60e9eeb907d3b93b6e0e5",
    "execution": {
     "iopub.execute_input": "2023-06-13T09:29:35.879847Z",
     "iopub.status.busy": "2023-06-13T09:29:35.879328Z",
     "iopub.status.idle": "2023-06-13T09:29:35.899472Z",
     "shell.execute_reply": "2023-06-13T09:29:35.898216Z"
    },
    "papermill": {
     "duration": 0.032202,
     "end_time": "2023-06-13T09:29:35.901876",
     "exception": false,
     "start_time": "2023-06-13T09:29:35.869674",
     "status": "completed"
    },
    "tags": []
   },
   "outputs": [
    {
     "name": "stdout",
     "output_type": "stream",
     "text": [
      "/kaggle/input/fertilizer-prediction/Fertilizer Prediction.csv\n"
     ]
    }
   ],
   "source": [
    "# This Python 3 environment comes with many helpful analytics libraries installed\n",
    "# It is defined by the kaggle/python Docker image: https://github.com/kaggle/docker-python\n",
    "# For example, here's several helpful packages to load\n",
    "\n",
    "import numpy as np # linear algebra\n",
    "import pandas as pd # data processing, CSV file I/O (e.g. pd.read_csv)\n",
    "\n",
    "# Input data files are available in the read-only \"../input/\" directory\n",
    "# For example, running this (by clicking run or pressing Shift+Enter) will list all files under the input directory\n",
    "\n",
    "import os\n",
    "for dirname, _, filenames in os.walk('/kaggle/input'):\n",
    "    for filename in filenames:\n",
    "        print(os.path.join(dirname, filename))\n",
    "\n",
    "# You can write up to 20GB to the current directory (/kaggle/working/) that gets preserved as output when you create a version using \"Save & Run All\" \n",
    "# You can also write temporary files to /kaggle/temp/, but they won't be saved outside of the current session"
   ]
  },
  {
   "cell_type": "code",
   "execution_count": 2,
   "id": "47b223cb",
   "metadata": {
    "execution": {
     "iopub.execute_input": "2023-06-13T09:29:35.917209Z",
     "iopub.status.busy": "2023-06-13T09:29:35.916030Z",
     "iopub.status.idle": "2023-06-13T09:29:35.960561Z",
     "shell.execute_reply": "2023-06-13T09:29:35.959372Z"
    },
    "papermill": {
     "duration": 0.054593,
     "end_time": "2023-06-13T09:29:35.963101",
     "exception": false,
     "start_time": "2023-06-13T09:29:35.908508",
     "status": "completed"
    },
    "tags": []
   },
   "outputs": [
    {
     "data": {
      "text/html": [
       "<div>\n",
       "<style scoped>\n",
       "    .dataframe tbody tr th:only-of-type {\n",
       "        vertical-align: middle;\n",
       "    }\n",
       "\n",
       "    .dataframe tbody tr th {\n",
       "        vertical-align: top;\n",
       "    }\n",
       "\n",
       "    .dataframe thead th {\n",
       "        text-align: right;\n",
       "    }\n",
       "</style>\n",
       "<table border=\"1\" class=\"dataframe\">\n",
       "  <thead>\n",
       "    <tr style=\"text-align: right;\">\n",
       "      <th></th>\n",
       "      <th>Temparature</th>\n",
       "      <th>Humidity</th>\n",
       "      <th>Moisture</th>\n",
       "      <th>Soil Type</th>\n",
       "      <th>Crop Type</th>\n",
       "      <th>Nitrogen</th>\n",
       "      <th>Potassium</th>\n",
       "      <th>Phosphorous</th>\n",
       "      <th>Fertilizer Name</th>\n",
       "    </tr>\n",
       "  </thead>\n",
       "  <tbody>\n",
       "    <tr>\n",
       "      <th>0</th>\n",
       "      <td>26</td>\n",
       "      <td>52</td>\n",
       "      <td>38</td>\n",
       "      <td>Sandy</td>\n",
       "      <td>Maize</td>\n",
       "      <td>37</td>\n",
       "      <td>0</td>\n",
       "      <td>0</td>\n",
       "      <td>Urea</td>\n",
       "    </tr>\n",
       "    <tr>\n",
       "      <th>1</th>\n",
       "      <td>29</td>\n",
       "      <td>52</td>\n",
       "      <td>45</td>\n",
       "      <td>Loamy</td>\n",
       "      <td>Sugarcane</td>\n",
       "      <td>12</td>\n",
       "      <td>0</td>\n",
       "      <td>36</td>\n",
       "      <td>DAP</td>\n",
       "    </tr>\n",
       "    <tr>\n",
       "      <th>2</th>\n",
       "      <td>34</td>\n",
       "      <td>65</td>\n",
       "      <td>62</td>\n",
       "      <td>Black</td>\n",
       "      <td>Cotton</td>\n",
       "      <td>7</td>\n",
       "      <td>9</td>\n",
       "      <td>30</td>\n",
       "      <td>14-35-14</td>\n",
       "    </tr>\n",
       "    <tr>\n",
       "      <th>3</th>\n",
       "      <td>32</td>\n",
       "      <td>62</td>\n",
       "      <td>34</td>\n",
       "      <td>Red</td>\n",
       "      <td>Tobacco</td>\n",
       "      <td>22</td>\n",
       "      <td>0</td>\n",
       "      <td>20</td>\n",
       "      <td>28-28</td>\n",
       "    </tr>\n",
       "    <tr>\n",
       "      <th>4</th>\n",
       "      <td>28</td>\n",
       "      <td>54</td>\n",
       "      <td>46</td>\n",
       "      <td>Clayey</td>\n",
       "      <td>Paddy</td>\n",
       "      <td>35</td>\n",
       "      <td>0</td>\n",
       "      <td>0</td>\n",
       "      <td>Urea</td>\n",
       "    </tr>\n",
       "  </tbody>\n",
       "</table>\n",
       "</div>"
      ],
      "text/plain": [
       "   Temparature  Humidity   Moisture Soil Type  Crop Type  Nitrogen  Potassium  \\\n",
       "0           26         52        38     Sandy      Maize        37          0   \n",
       "1           29         52        45     Loamy  Sugarcane        12          0   \n",
       "2           34         65        62     Black     Cotton         7          9   \n",
       "3           32         62        34       Red    Tobacco        22          0   \n",
       "4           28         54        46    Clayey      Paddy        35          0   \n",
       "\n",
       "   Phosphorous Fertilizer Name  \n",
       "0            0            Urea  \n",
       "1           36             DAP  \n",
       "2           30        14-35-14  \n",
       "3           20           28-28  \n",
       "4            0            Urea  "
      ]
     },
     "execution_count": 2,
     "metadata": {},
     "output_type": "execute_result"
    }
   ],
   "source": [
    "df = pd.read_csv(\"/kaggle/input/fertilizer-prediction/Fertilizer Prediction.csv\")\n",
    "df.head()"
   ]
  },
  {
   "cell_type": "code",
   "execution_count": 3,
   "id": "5088d692",
   "metadata": {
    "execution": {
     "iopub.execute_input": "2023-06-13T09:29:35.978156Z",
     "iopub.status.busy": "2023-06-13T09:29:35.977752Z",
     "iopub.status.idle": "2023-06-13T09:29:35.984458Z",
     "shell.execute_reply": "2023-06-13T09:29:35.983421Z"
    },
    "papermill": {
     "duration": 0.016931,
     "end_time": "2023-06-13T09:29:35.986816",
     "exception": false,
     "start_time": "2023-06-13T09:29:35.969885",
     "status": "completed"
    },
    "tags": []
   },
   "outputs": [
    {
     "data": {
      "text/plain": [
       "(99, 9)"
      ]
     },
     "execution_count": 3,
     "metadata": {},
     "output_type": "execute_result"
    }
   ],
   "source": [
    "df.shape"
   ]
  },
  {
   "cell_type": "code",
   "execution_count": 4,
   "id": "004d69af",
   "metadata": {
    "execution": {
     "iopub.execute_input": "2023-06-13T09:29:36.002221Z",
     "iopub.status.busy": "2023-06-13T09:29:36.001795Z",
     "iopub.status.idle": "2023-06-13T09:29:36.011975Z",
     "shell.execute_reply": "2023-06-13T09:29:36.010818Z"
    },
    "papermill": {
     "duration": 0.020782,
     "end_time": "2023-06-13T09:29:36.014391",
     "exception": false,
     "start_time": "2023-06-13T09:29:35.993609",
     "status": "completed"
    },
    "tags": []
   },
   "outputs": [
    {
     "data": {
      "text/plain": [
       "Temparature        0\n",
       "Humidity           0\n",
       "Moisture           0\n",
       "Soil Type          0\n",
       "Crop Type          0\n",
       "Nitrogen           0\n",
       "Potassium          0\n",
       "Phosphorous        0\n",
       "Fertilizer Name    0\n",
       "dtype: int64"
      ]
     },
     "execution_count": 4,
     "metadata": {},
     "output_type": "execute_result"
    }
   ],
   "source": [
    "df.isnull().sum()"
   ]
  },
  {
   "cell_type": "code",
   "execution_count": 5,
   "id": "ba7bf5be",
   "metadata": {
    "execution": {
     "iopub.execute_input": "2023-06-13T09:29:36.030394Z",
     "iopub.status.busy": "2023-06-13T09:29:36.030008Z",
     "iopub.status.idle": "2023-06-13T09:29:36.051479Z",
     "shell.execute_reply": "2023-06-13T09:29:36.050214Z"
    },
    "papermill": {
     "duration": 0.032191,
     "end_time": "2023-06-13T09:29:36.054057",
     "exception": false,
     "start_time": "2023-06-13T09:29:36.021866",
     "status": "completed"
    },
    "tags": []
   },
   "outputs": [
    {
     "name": "stdout",
     "output_type": "stream",
     "text": [
      "<class 'pandas.core.frame.DataFrame'>\n",
      "RangeIndex: 99 entries, 0 to 98\n",
      "Data columns (total 9 columns):\n",
      " #   Column           Non-Null Count  Dtype \n",
      "---  ------           --------------  ----- \n",
      " 0   Temparature      99 non-null     int64 \n",
      " 1   Humidity         99 non-null     int64 \n",
      " 2   Moisture         99 non-null     int64 \n",
      " 3   Soil Type        99 non-null     object\n",
      " 4   Crop Type        99 non-null     object\n",
      " 5   Nitrogen         99 non-null     int64 \n",
      " 6   Potassium        99 non-null     int64 \n",
      " 7   Phosphorous      99 non-null     int64 \n",
      " 8   Fertilizer Name  99 non-null     object\n",
      "dtypes: int64(6), object(3)\n",
      "memory usage: 7.1+ KB\n"
     ]
    }
   ],
   "source": [
    "df.info()"
   ]
  },
  {
   "cell_type": "code",
   "execution_count": 6,
   "id": "805a60d0",
   "metadata": {
    "execution": {
     "iopub.execute_input": "2023-06-13T09:29:36.072362Z",
     "iopub.status.busy": "2023-06-13T09:29:36.070042Z",
     "iopub.status.idle": "2023-06-13T09:29:37.724045Z",
     "shell.execute_reply": "2023-06-13T09:29:37.722745Z"
    },
    "papermill": {
     "duration": 1.665332,
     "end_time": "2023-06-13T09:29:37.726802",
     "exception": false,
     "start_time": "2023-06-13T09:29:36.061470",
     "status": "completed"
    },
    "tags": []
   },
   "outputs": [
    {
     "data": {
      "text/plain": [
       "<Axes: xlabel='Fertilizer Name', ylabel='count'>"
      ]
     },
     "execution_count": 6,
     "metadata": {},
     "output_type": "execute_result"
    },
    {
     "data": {
      "image/png": "[encoded data removed]",
      "text/plain": [
       "<Figure size 640x480 with 1 Axes>"
      ]
     },
     "metadata": {},
     "output_type": "display_data"
    }
   ],
   "source": [
    "import matplotlib.pyplot as plt\n",
    "import seaborn as sns\n",
    "\n",
    "sns.countplot(data=df, x=\"Fertilizer Name\")"
   ]
  },
  {
   "cell_type": "code",
   "execution_count": 7,
   "id": "3c4b5384",
   "metadata": {
    "execution": {
     "iopub.execute_input": "2023-06-13T09:29:37.745246Z",
     "iopub.status.busy": "2023-06-13T09:29:37.744833Z",
     "iopub.status.idle": "2023-06-13T09:29:37.754015Z",
     "shell.execute_reply": "2023-06-13T09:29:37.752863Z"
    },
    "papermill": {
     "duration": 0.02066,
     "end_time": "2023-06-13T09:29:37.756562",
     "exception": false,
     "start_time": "2023-06-13T09:29:37.735902",
     "status": "completed"
    },
    "tags": []
   },
   "outputs": [
    {
     "data": {
      "text/plain": [
       "Loamy     21\n",
       "Sandy     20\n",
       "Clayey    20\n",
       "Black     19\n",
       "Red       19\n",
       "Name: Soil Type, dtype: int64"
      ]
     },
     "execution_count": 7,
     "metadata": {},
     "output_type": "execute_result"
    }
   ],
   "source": [
    "df[\"Soil Type\"].value_counts()"
   ]
  },
  {
   "cell_type": "code",
   "execution_count": 8,
   "id": "68b4e0f8",
   "metadata": {
    "execution": {
     "iopub.execute_input": "2023-06-13T09:29:37.774120Z",
     "iopub.status.busy": "2023-06-13T09:29:37.773129Z",
     "iopub.status.idle": "2023-06-13T09:29:37.781312Z",
     "shell.execute_reply": "2023-06-13T09:29:37.780362Z"
    },
    "papermill": {
     "duration": 0.019286,
     "end_time": "2023-06-13T09:29:37.783476",
     "exception": false,
     "start_time": "2023-06-13T09:29:37.764190",
     "status": "completed"
    },
    "tags": []
   },
   "outputs": [
    {
     "data": {
      "text/plain": [
       "Sugarcane      13\n",
       "Cotton         12\n",
       "Millets        11\n",
       "Paddy          10\n",
       "Pulses         10\n",
       "Wheat           9\n",
       "Tobacco         7\n",
       "Barley          7\n",
       "Oil seeds       7\n",
       "Ground Nuts     7\n",
       "Maize           6\n",
       "Name: Crop Type, dtype: int64"
      ]
     },
     "execution_count": 8,
     "metadata": {},
     "output_type": "execute_result"
    }
   ],
   "source": [
    "df[\"Crop Type\"].value_counts()"
   ]
  },
  {
   "cell_type": "code",
   "execution_count": 9,
   "id": "77887df9",
   "metadata": {
    "execution": {
     "iopub.execute_input": "2023-06-13T09:29:37.800764Z",
     "iopub.status.busy": "2023-06-13T09:29:37.800374Z",
     "iopub.status.idle": "2023-06-13T09:29:37.807046Z",
     "shell.execute_reply": "2023-06-13T09:29:37.806225Z"
    },
    "papermill": {
     "duration": 0.017968,
     "end_time": "2023-06-13T09:29:37.809334",
     "exception": false,
     "start_time": "2023-06-13T09:29:37.791366",
     "status": "completed"
    },
    "tags": []
   },
   "outputs": [],
   "source": [
    "soil = pd.get_dummies(df[\"Soil Type\"])\n",
    "crop = pd.get_dummies(df[\"Crop Type\"])"
   ]
  },
  {
   "cell_type": "code",
   "execution_count": 10,
   "id": "905120ed",
   "metadata": {
    "execution": {
     "iopub.execute_input": "2023-06-13T09:29:37.827019Z",
     "iopub.status.busy": "2023-06-13T09:29:37.826330Z",
     "iopub.status.idle": "2023-06-13T09:29:37.848912Z",
     "shell.execute_reply": "2023-06-13T09:29:37.847888Z"
    },
    "papermill": {
     "duration": 0.033985,
     "end_time": "2023-06-13T09:29:37.851255",
     "exception": false,
     "start_time": "2023-06-13T09:29:37.817270",
     "status": "completed"
    },
    "tags": []
   },
   "outputs": [
    {
     "data": {
      "text/html": [
       "<div>\n",
       "<style scoped>\n",
       "    .dataframe tbody tr th:only-of-type {\n",
       "        vertical-align: middle;\n",
       "    }\n",
       "\n",
       "    .dataframe tbody tr th {\n",
       "        vertical-align: top;\n",
       "    }\n",
       "\n",
       "    .dataframe thead th {\n",
       "        text-align: right;\n",
       "    }\n",
       "</style>\n",
       "<table border=\"1\" class=\"dataframe\">\n",
       "  <thead>\n",
       "    <tr style=\"text-align: right;\">\n",
       "      <th></th>\n",
       "      <th>Temparature</th>\n",
       "      <th>Humidity</th>\n",
       "      <th>Moisture</th>\n",
       "      <th>Nitrogen</th>\n",
       "      <th>Potassium</th>\n",
       "      <th>Phosphorous</th>\n",
       "      <th>Fertilizer Name</th>\n",
       "      <th>Black</th>\n",
       "      <th>Clayey</th>\n",
       "      <th>Loamy</th>\n",
       "      <th>...</th>\n",
       "      <th>Cotton</th>\n",
       "      <th>Ground Nuts</th>\n",
       "      <th>Maize</th>\n",
       "      <th>Millets</th>\n",
       "      <th>Oil seeds</th>\n",
       "      <th>Paddy</th>\n",
       "      <th>Pulses</th>\n",
       "      <th>Sugarcane</th>\n",
       "      <th>Tobacco</th>\n",
       "      <th>Wheat</th>\n",
       "    </tr>\n",
       "  </thead>\n",
       "  <tbody>\n",
       "    <tr>\n",
       "      <th>0</th>\n",
       "      <td>26</td>\n",
       "      <td>52</td>\n",
       "      <td>38</td>\n",
       "      <td>37</td>\n",
       "      <td>0</td>\n",
       "      <td>0</td>\n",
       "      <td>Urea</td>\n",
       "      <td>0</td>\n",
       "      <td>0</td>\n",
       "      <td>0</td>\n",
       "      <td>...</td>\n",
       "      <td>0</td>\n",
       "      <td>0</td>\n",
       "      <td>1</td>\n",
       "      <td>0</td>\n",
       "      <td>0</td>\n",
       "      <td>0</td>\n",
       "      <td>0</td>\n",
       "      <td>0</td>\n",
       "      <td>0</td>\n",
       "      <td>0</td>\n",
       "    </tr>\n",
       "    <tr>\n",
       "      <th>1</th>\n",
       "      <td>29</td>\n",
       "      <td>52</td>\n",
       "      <td>45</td>\n",
       "      <td>12</td>\n",
       "      <td>0</td>\n",
       "      <td>36</td>\n",
       "      <td>DAP</td>\n",
       "      <td>0</td>\n",
       "      <td>0</td>\n",
       "      <td>1</td>\n",
       "      <td>...</td>\n",
       "      <td>0</td>\n",
       "      <td>0</td>\n",
       "      <td>0</td>\n",
       "      <td>0</td>\n",
       "      <td>0</td>\n",
       "      <td>0</td>\n",
       "      <td>0</td>\n",
       "      <td>1</td>\n",
       "      <td>0</td>\n",
       "      <td>0</td>\n",
       "    </tr>\n",
       "    <tr>\n",
       "      <th>2</th>\n",
       "      <td>34</td>\n",
       "      <td>65</td>\n",
       "      <td>62</td>\n",
       "      <td>7</td>\n",
       "      <td>9</td>\n",
       "      <td>30</td>\n",
       "      <td>14-35-14</td>\n",
       "      <td>1</td>\n",
       "      <td>0</td>\n",
       "      <td>0</td>\n",
       "      <td>...</td>\n",
       "      <td>1</td>\n",
       "      <td>0</td>\n",
       "      <td>0</td>\n",
       "      <td>0</td>\n",
       "      <td>0</td>\n",
       "      <td>0</td>\n",
       "      <td>0</td>\n",
       "      <td>0</td>\n",
       "      <td>0</td>\n",
       "      <td>0</td>\n",
       "    </tr>\n",
       "    <tr>\n",
       "      <th>3</th>\n",
       "      <td>32</td>\n",
       "      <td>62</td>\n",
       "      <td>34</td>\n",
       "      <td>22</td>\n",
       "      <td>0</td>\n",
       "      <td>20</td>\n",
       "      <td>28-28</td>\n",
       "      <td>0</td>\n",
       "      <td>0</td>\n",
       "      <td>0</td>\n",
       "      <td>...</td>\n",
       "      <td>0</td>\n",
       "      <td>0</td>\n",
       "      <td>0</td>\n",
       "      <td>0</td>\n",
       "      <td>0</td>\n",
       "      <td>0</td>\n",
       "      <td>0</td>\n",
       "      <td>0</td>\n",
       "      <td>1</td>\n",
       "      <td>0</td>\n",
       "    </tr>\n",
       "    <tr>\n",
       "      <th>4</th>\n",
       "      <td>28</td>\n",
       "      <td>54</td>\n",
       "      <td>46</td>\n",
       "      <td>35</td>\n",
       "      <td>0</td>\n",
       "      <td>0</td>\n",
       "      <td>Urea</td>\n",
       "      <td>0</td>\n",
       "      <td>1</td>\n",
       "      <td>0</td>\n",
       "      <td>...</td>\n",
       "      <td>0</td>\n",
       "      <td>0</td>\n",
       "      <td>0</td>\n",
       "      <td>0</td>\n",
       "      <td>0</td>\n",
       "      <td>1</td>\n",
       "      <td>0</td>\n",
       "      <td>0</td>\n",
       "      <td>0</td>\n",
       "      <td>0</td>\n",
       "    </tr>\n",
       "  </tbody>\n",
       "</table>\n",
       "<p>5 rows × 23 columns</p>\n",
       "</div>"
      ],
      "text/plain": [
       "   Temparature  Humidity   Moisture  Nitrogen  Potassium  Phosphorous  \\\n",
       "0           26         52        38        37          0            0   \n",
       "1           29         52        45        12          0           36   \n",
       "2           34         65        62         7          9           30   \n",
       "3           32         62        34        22          0           20   \n",
       "4           28         54        46        35          0            0   \n",
       "\n",
       "  Fertilizer Name  Black  Clayey  Loamy  ...  Cotton  Ground Nuts  Maize  \\\n",
       "0            Urea      0       0      0  ...       0            0      1   \n",
       "1             DAP      0       0      1  ...       0            0      0   \n",
       "2        14-35-14      1       0      0  ...       1            0      0   \n",
       "3           28-28      0       0      0  ...       0            0      0   \n",
       "4            Urea      0       1      0  ...       0            0      0   \n",
       "\n",
       "   Millets  Oil seeds  Paddy  Pulses  Sugarcane  Tobacco  Wheat  \n",
       "0        0          0      0       0          0        0      0  \n",
       "1        0          0      0       0          1        0      0  \n",
       "2        0          0      0       0          0        0      0  \n",
       "3        0          0      0       0          0        1      0  \n",
       "4        0          0      1       0          0        0      0  \n",
       "\n",
       "[5 rows x 23 columns]"
      ]
     },
     "execution_count": 10,
     "metadata": {},
     "output_type": "execute_result"
    }
   ],
   "source": [
    "df = pd.concat([df, soil, crop], axis=1)\n",
    "df = df.drop([\"Soil Type\", \"Crop Type\"], axis=1)\n",
    "df.head()"
   ]
  },
  {
   "cell_type": "code",
   "execution_count": 11,
   "id": "a867841d",
   "metadata": {
    "execution": {
     "iopub.execute_input": "2023-06-13T09:29:37.869976Z",
     "iopub.status.busy": "2023-06-13T09:29:37.869266Z",
     "iopub.status.idle": "2023-06-13T09:29:37.875450Z",
     "shell.execute_reply": "2023-06-13T09:29:37.874312Z"
    },
    "papermill": {
     "duration": 0.018586,
     "end_time": "2023-06-13T09:29:37.878053",
     "exception": false,
     "start_time": "2023-06-13T09:29:37.859467",
     "status": "completed"
    },
    "tags": []
   },
   "outputs": [],
   "source": [
    "X = df.drop(\"Fertilizer Name\", axis=1)\n",
    "y = df[\"Fertilizer Name\"]"
   ]
  },
  {
   "cell_type": "code",
   "execution_count": 12,
   "id": "d4ed0422",
   "metadata": {
    "execution": {
     "iopub.execute_input": "2023-06-13T09:29:37.896130Z",
     "iopub.status.busy": "2023-06-13T09:29:37.895714Z",
     "iopub.status.idle": "2023-06-13T09:29:38.121640Z",
     "shell.execute_reply": "2023-06-13T09:29:38.120430Z"
    },
    "papermill": {
     "duration": 0.238119,
     "end_time": "2023-06-13T09:29:38.124423",
     "exception": false,
     "start_time": "2023-06-13T09:29:37.886304",
     "status": "completed"
    },
    "tags": []
   },
   "outputs": [],
   "source": [
    "from sklearn.model_selection import train_test_split\n",
    "\n",
    "X_train, X_test, y_train, y_test = train_test_split(X, y, test_size=0.2)"
   ]
  },
  {
   "cell_type": "code",
   "execution_count": 13,
   "id": "6ba315a4",
   "metadata": {
    "execution": {
     "iopub.execute_input": "2023-06-13T09:29:38.143650Z",
     "iopub.status.busy": "2023-06-13T09:29:38.142574Z",
     "iopub.status.idle": "2023-06-13T09:29:38.758924Z",
     "shell.execute_reply": "2023-06-13T09:29:38.757998Z"
    },
    "papermill": {
     "duration": 0.628433,
     "end_time": "2023-06-13T09:29:38.761457",
     "exception": false,
     "start_time": "2023-06-13T09:29:38.133024",
     "status": "completed"
    },
    "tags": []
   },
   "outputs": [
    {
     "data": {
      "text/html": [
       "<style>#sk-container-id-1 {color: black;background-color: white;}#sk-container-id-1 pre{padding: 0;}#sk-container-id-1 div.sk-toggleable {background-color: white;}#sk-container-id-1 label.sk-toggleable__label {cursor: pointer;display: block;width: 100%;margin-bottom: 0;padding: 0.3em;box-sizing: border-box;text-align: center;}#sk-container-id-1 label.sk-toggleable__label-arrow:before {content: \"▸\";float: left;margin-right: 0.25em;color: #696969;}#sk-container-id-1 label.sk-toggleable__label-arrow:hover:before {color: black;}#sk-container-id-1 div.sk-estimator:hover label.sk-toggleable__label-arrow:before {color: black;}#sk-container-id-1 div.sk-toggleable__content {max-height: 0;max-width: 0;overflow: hidden;text-align: left;background-color: #f0f8ff;}#sk-container-id-1 div.sk-toggleable__content pre {margin: 0.2em;color: black;border-radius: 0.25em;background-color: #f0f8ff;}#sk-container-id-1 input.sk-toggleable__control:checked~div.sk-toggleable__content {max-height: 200px;max-width: 100%;overflow: auto;}#sk-container-id-1 input.sk-toggleable__control:checked~label.sk-toggleable__label-arrow:before {content: \"▾\";}#sk-container-id-1 div.sk-estimator input.sk-toggleable__control:checked~label.sk-toggleable__label {background-color: #d4ebff;}#sk-container-id-1 div.sk-label input.sk-toggleable__control:checked~label.sk-toggleable__label {background-color: #d4ebff;}#sk-container-id-1 input.sk-hidden--visually {border: 0;clip: rect(1px 1px 1px 1px);clip: rect(1px, 1px, 1px, 1px);height: 1px;margin: -1px;overflow: hidden;padding: 0;position: absolute;width: 1px;}#sk-container-id-1 div.sk-estimator {font-family: monospace;background-color: #f0f8ff;border: 1px dotted black;border-radius: 0.25em;box-sizing: border-box;margin-bottom: 0.5em;}#sk-container-id-1 div.sk-estimator:hover {background-color: #d4ebff;}#sk-container-id-1 div.sk-parallel-item::after {content: \"\";width: 100%;border-bottom: 1px solid gray;flex-grow: 1;}#sk-container-id-1 div.sk-label:hover label.sk-toggleable__label {background-color: #d4ebff;}#sk-container-id-1 div.sk-serial::before {content: \"\";position: absolute;border-left: 1px solid gray;box-sizing: border-box;top: 0;bottom: 0;left: 50%;z-index: 0;}#sk-container-id-1 div.sk-serial {display: flex;flex-direction: column;align-items: center;background-color: white;padding-right: 0.2em;padding-left: 0.2em;position: relative;}#sk-container-id-1 div.sk-item {position: relative;z-index: 1;}#sk-container-id-1 div.sk-parallel {display: flex;align-items: stretch;justify-content: center;background-color: white;position: relative;}#sk-container-id-1 div.sk-item::before, #sk-container-id-1 div.sk-parallel-item::before {content: \"\";position: absolute;border-left: 1px solid gray;box-sizing: border-box;top: 0;bottom: 0;left: 50%;z-index: -1;}#sk-container-id-1 div.sk-parallel-item {display: flex;flex-direction: column;z-index: 1;position: relative;background-color: white;}#sk-container-id-1 div.sk-parallel-item:first-child::after {align-self: flex-end;width: 50%;}#sk-container-id-1 div.sk-parallel-item:last-child::after {align-self: flex-start;width: 50%;}#sk-container-id-1 div.sk-parallel-item:only-child::after {width: 0;}#sk-container-id-1 div.sk-dashed-wrapped {border: 1px dashed gray;margin: 0 0.4em 0.5em 0.4em;box-sizing: border-box;padding-bottom: 0.4em;background-color: white;}#sk-container-id-1 div.sk-label label {font-family: monospace;font-weight: bold;display: inline-block;line-height: 1.2em;}#sk-container-id-1 div.sk-label-container {text-align: center;}#sk-container-id-1 div.sk-container {/* jupyter's `normalize.less` sets `[hidden] { display: none; }` but bootstrap.min.css set `[hidden] { display: none !important; }` so we also need the `!important` here to be able to override the default hidden behavior on the sphinx rendered scikit-learn.org. See: https://github.com/scikit-learn/scikit-learn/issues/21755 */display: inline-block !important;position: relative;}#sk-container-id-1 div.sk-text-repr-fallback {display: none;}</style><div id=\"sk-container-id-1\" class=\"sk-top-container\"><div class=\"sk-text-repr-fallback\"><pre>RandomForestClassifier()</pre><b>In a Jupyter environment, please rerun this cell to show the HTML representation or trust the notebook. <br />On GitHub, the HTML representation is unable to render, please try loading this page with nbviewer.org.</b></div><div class=\"sk-container\" hidden><div class=\"sk-item\"><div class=\"sk-estimator sk-toggleable\"><input class=\"sk-toggleable__control sk-hidden--visually\" id=\"sk-estimator-id-1\" type=\"checkbox\" checked><label for=\"sk-estimator-id-1\" class=\"sk-toggleable__label sk-toggleable__label-arrow\">RandomForestClassifier</label><div class=\"sk-toggleable__content\"><pre>RandomForestClassifier()</pre></div></div></div></div></div>"
      ],
      "text/plain": [
       "RandomForestClassifier()"
      ]
     },
     "execution_count": 13,
     "metadata": {},
     "output_type": "execute_result"
    }
   ],
   "source": [
    "from sklearn.ensemble import RandomForestClassifier\n",
    "\n",
    "rf_model = RandomForestClassifier()\n",
    "rf_model.fit(X_train, y_train)"
   ]
  },
  {
   "cell_type": "code",
   "execution_count": 14,
   "id": "9ed78d34",
   "metadata": {
    "execution": {
     "iopub.execute_input": "2023-06-13T09:29:38.780530Z",
     "iopub.status.busy": "2023-06-13T09:29:38.779792Z",
     "iopub.status.idle": "2023-06-13T09:29:38.801292Z",
     "shell.execute_reply": "2023-06-13T09:29:38.800150Z"
    },
    "papermill": {
     "duration": 0.034115,
     "end_time": "2023-06-13T09:29:38.804225",
     "exception": false,
     "start_time": "2023-06-13T09:29:38.770110",
     "status": "completed"
    },
    "tags": []
   },
   "outputs": [],
   "source": [
    "y_pred = rf_model.predict(X_test)"
   ]
  },
  {
   "cell_type": "code",
   "execution_count": 15,
   "id": "4325b547",
   "metadata": {
    "execution": {
     "iopub.execute_input": "2023-06-13T09:29:38.823103Z",
     "iopub.status.busy": "2023-06-13T09:29:38.822688Z",
     "iopub.status.idle": "2023-06-13T09:29:38.831163Z",
     "shell.execute_reply": "2023-06-13T09:29:38.830032Z"
    },
    "papermill": {
     "duration": 0.020743,
     "end_time": "2023-06-13T09:29:38.833407",
     "exception": false,
     "start_time": "2023-06-13T09:29:38.812664",
     "status": "completed"
    },
    "tags": []
   },
   "outputs": [
    {
     "data": {
      "text/plain": [
       "0.95"
      ]
     },
     "execution_count": 15,
     "metadata": {},
     "output_type": "execute_result"
    }
   ],
   "source": [
    "from sklearn.metrics import accuracy_score\n",
    "\n",
    "accuracy_score(y_test, y_pred)"
   ]
  },
  {
   "cell_type": "code",
   "execution_count": 16,
   "id": "26214b13",
   "metadata": {
    "execution": {
     "iopub.execute_input": "2023-06-13T09:29:38.852377Z",
     "iopub.status.busy": "2023-06-13T09:29:38.851998Z",
     "iopub.status.idle": "2023-06-13T09:29:38.868350Z",
     "shell.execute_reply": "2023-06-13T09:29:38.867062Z"
    },
    "papermill": {
     "duration": 0.028619,
     "end_time": "2023-06-13T09:29:38.870701",
     "exception": false,
     "start_time": "2023-06-13T09:29:38.842082",
     "status": "completed"
    },
    "tags": []
   },
   "outputs": [
    {
     "name": "stdout",
     "output_type": "stream",
     "text": [
      "              precision    recall  f1-score   support\n",
      "\n",
      "    10-26-26       1.00      0.50      0.67         2\n",
      "    14-35-14       0.75      1.00      0.86         3\n",
      "    17-17-17       1.00      1.00      1.00         1\n",
      "       20-20       1.00      1.00      1.00         4\n",
      "       28-28       1.00      1.00      1.00         3\n",
      "         DAP       1.00      1.00      1.00         6\n",
      "        Urea       1.00      1.00      1.00         1\n",
      "\n",
      "    accuracy                           0.95        20\n",
      "   macro avg       0.96      0.93      0.93        20\n",
      "weighted avg       0.96      0.95      0.95        20\n",
      "\n"
     ]
    }
   ],
   "source": [
    "from sklearn.metrics import classification_report\n",
    "\n",
    "print(classification_report(y_test, y_pred))"
   ]
  },
  {
   "cell_type": "code",
   "execution_count": 17,
   "id": "09764a49",
   "metadata": {
    "execution": {
     "iopub.execute_input": "2023-06-13T09:29:38.891023Z",
     "iopub.status.busy": "2023-06-13T09:29:38.890035Z",
     "iopub.status.idle": "2023-06-13T09:29:39.377118Z",
     "shell.execute_reply": "2023-06-13T09:29:39.376015Z"
    },
    "papermill": {
     "duration": 0.500172,
     "end_time": "2023-06-13T09:29:39.380028",
     "exception": false,
     "start_time": "2023-06-13T09:29:38.879856",
     "status": "completed"
    },
    "tags": []
   },
   "outputs": [
    {
     "data": {
      "text/plain": [
       "<Axes: >"
      ]
     },
     "execution_count": 17,
     "metadata": {},
     "output_type": "execute_result"
    },
    {
     "data": {
      "image/png": "[encoded data removed]",
      "text/plain": [
       "<Figure size 640x480 with 2 Axes>"
      ]
     },
     "metadata": {},
     "output_type": "display_data"
    }
   ],
   "source": [
    "from sklearn.metrics import confusion_matrix\n",
    "\n",
    "cm = confusion_matrix(y_test, y_pred)\n",
    "sns.heatmap(cm, annot=True, fmt=\".0f\")"
   ]
  },
  {
   "cell_type": "code",
   "execution_count": null,
   "id": "da4b38f8",
   "metadata": {
    "papermill": {
     "duration": 0.008954,
     "end_time": "2023-06-13T09:29:39.398549",
     "exception": false,
     "start_time": "2023-06-13T09:29:39.389595",
     "status": "completed"
    },
    "tags": []
   },
   "outputs": [],
   "source": []
  }
 ],
 "metadata": {
  "kernelspec": {
   "display_name": "Python 3",
   "language": "python",
   "name": "python3"
  },
  "language_info": {
   "codemirror_mode": {
    "name": "ipython",
    "version": 3
   },
   "file_extension": ".py",
   "mimetype": "text/x-python",
   "name": "python",
   "nbconvert_exporter": "python",
   "pygments_lexer": "ipython3",
   "version": "3.10.10"
  },
  "papermill": {
   "default_parameters": {},
   "duration": 16.483623,
   "end_time": "2023-06-13T09:29:40.430105",
   "environment_variables": {},
   "exception": null,
   "input_path": "__notebook__.ipynb",
   "output_path": "__notebook__.ipynb",
   "parameters": {},
   "start_time": "2023-06-13T09:29:23.946482",
   "version": "2.4.0"
  }
 },
 "nbformat": 4,
 "nbformat_minor": 5
}
